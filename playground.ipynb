{
 "cells": [
  {
   "cell_type": "code",
   "execution_count": 10,
   "metadata": {
    "collapsed": true
   },
   "outputs": [],
   "source": [
    "import pandas as pd\n",
    "import numpy as np\n",
    "import pygsheets"
   ]
  },
  {
   "cell_type": "code",
   "execution_count": 18,
   "metadata": {
    "collapsed": false
   },
   "outputs": [
    {
     "name": "stdout",
     "output_type": "stream",
     "text": [
      "(138, 25)\n"
     ]
    }
   ],
   "source": [
    "# get data from the spreadsheet itselt\n",
    "gc = pygsheets.authorize(outh_file='client_secret.json')\n",
    "sh = gc.open_by_url('https://docs.google.com/spreadsheets/d/1w9rHDLRHSeVoSG7--vig1BVbolEZKwZSFShYQdunl8w/edit#gid=137303460')\n",
    "wks = sh.sheet1\n",
    "# export a worksheet as csv\n",
    "# wks.export(pygsheets.ExportType.CSV)\n",
    "\n",
    "# turn spreadsheet\n",
    "df = wks.get_as_df()\n",
    "print df.shape"
   ]
  },
  {
   "cell_type": "code",
   "execution_count": 34,
   "metadata": {
    "collapsed": false
   },
   "outputs": [
    {
     "data": {
      "text/plain": [
       "[u'Timestamp',\n",
       " u'Gender',\n",
       " u'Age (ex: 33)',\n",
       " u\"Highest level of education you've achieved\",\n",
       " u'If you graduated from college, what was your major? (ex: Economics)',\n",
       " u'If you have a graduate degree, what is the degree? (ex: MA Stats, PhD Economics, MPH, etc.)',\n",
       " u'I am good at and enjoy (please select at least 3)',\n",
       " u'Which of the following causes are most important to you? (select 1-5 )',\n",
       " u'What is your current job title? (ex: Researcher)',\n",
       " u'For which company or organization do you currently work? (ex: Red Cross)',\n",
       " u'What is the primary field of your current position/organization?',\n",
       " u'Which category best describes your current job function?',\n",
       " u'What is your annual income from this position?',\n",
       " u'In which city and state do you currently work? (ex: New York, NY)',\n",
       " u'Which skills do you use most frequently in this position? (select at least 2)',\n",
       " u'How satisfied are you with your current pay?',\n",
       " u'How satisfied are you with your physical work environment?',\n",
       " u'How satisfied are you with your relationships with colleagues?',\n",
       " u'How satisfied are you with your supervisor?',\n",
       " u'How satisfied are you with your opportunities for promotion?',\n",
       " u'Overall, how satisfied are you with your current job?',\n",
       " u'About how long did it take you to complete this survey?',\n",
       " u\"Is there any thing else you'd like us to know about your job, interests, or satisfaction in the job? Any thoughts about the project idea or survey? Thanks for your help!\",\n",
       " u'Name (optional) ',\n",
       " u'Email (optional)']"
      ]
     },
     "execution_count": 34,
     "metadata": {},
     "output_type": "execute_result"
    }
   ],
   "source": [
    "df.columns.tolist()"
   ]
  },
  {
   "cell_type": "code",
   "execution_count": 136,
   "metadata": {
    "collapsed": false
   },
   "outputs": [],
   "source": [
    "drop_col = ['Email (optional)', 'Name (optional) ', 'Timestamp']\n",
    "for i in drop_col:\n",
    "    df = df.drop(i, axis=1)\n",
    "    "
   ]
  },
  {
   "cell_type": "code",
   "execution_count": 151,
   "metadata": {
    "collapsed": false
   },
   "outputs": [
    {
     "data": {
      "text/plain": [
       "[u'Gender',\n",
       " u\"Highest level of education you've achieved\",\n",
       " u'If you graduated from college, what was your major? (ex: Economics)',\n",
       " u'If you have a graduate degree, what is the degree? (ex: MA Stats, PhD Economics, MPH, etc.)',\n",
       " u'I am good at and enjoy (please select at least 3)',\n",
       " u'Which of the following causes are most important to you? (select 1-5 )',\n",
       " u'What is your current job title? (ex: Researcher)',\n",
       " u'For which company or organization do you currently work? (ex: Red Cross)',\n",
       " u'What is the primary field of your current position/organization?',\n",
       " u'Which category best describes your current job function?',\n",
       " u'What is your annual income from this position?',\n",
       " u'In which city and state do you currently work? (ex: New York, NY)',\n",
       " u'Which skills do you use most frequently in this position? (select at least 2)',\n",
       " u'How satisfied are you with your current pay?',\n",
       " u'How satisfied are you with your physical work environment?',\n",
       " u'How satisfied are you with your relationships with colleagues?',\n",
       " u'How satisfied are you with your supervisor?',\n",
       " u'How satisfied are you with your opportunities for promotion?',\n",
       " u'Overall, how satisfied are you with your current job?',\n",
       " u'About how long did it take you to complete this survey?',\n",
       " u\"Is there any thing else you'd like us to know about your job, interests, or satisfaction in the job? Any thoughts about the project idea or survey? Thanks for your help!\"]"
      ]
     },
     "execution_count": 151,
     "metadata": {},
     "output_type": "execute_result"
    }
   ],
   "source": [
    "a = df.columns.tolist()\n",
    "# del a('Age (ex: 33)')\n",
    "dummies = a.remove('Age (ex: 33)')\n",
    "a"
   ]
  },
  {
   "cell_type": "code",
   "execution_count": 137,
   "metadata": {
    "collapsed": false
   },
   "outputs": [
    {
     "name": "stdout",
     "output_type": "stream",
     "text": [
      "118\n"
     ]
    }
   ],
   "source": [
    "multi_col = [\"I am good at and enjoy (please select at least 3)\",\n",
    "            \"Which skills do you use most frequently in this position? (select at least 2)\",\n",
    "            \"Which of the following causes are most important to you? (select 1-5 )\"]\n",
    "\n",
    "from collections import defaultdict\n",
    "master_dict = defaultdict(list)\n",
    "\n",
    "for col in multi_col:\n",
    "    for count, i in enumerate(df[col]):\n",
    "        if 'Being creative' in i:\n",
    "            i = i.split(' (wri')[0]\n",
    "        t = i.split(\", \")\n",
    "        for key in t:\n",
    "            if key not in master_dict:\n",
    "                master_dict[key] = [count]\n",
    "            else:\n",
    "                master_dict[key].append(count)\n",
    "\n",
    "print len(master_dict.keys())"
   ]
  },
  {
   "cell_type": "code",
   "execution_count": 138,
   "metadata": {
    "collapsed": false
   },
   "outputs": [
    {
     "name": "stdout",
     "output_type": "stream",
     "text": [
      "(138, 19)\n",
      "(138, 137)\n"
     ]
    }
   ],
   "source": [
    "df1 = df[:]\n",
    "for i in multi_col:\n",
    "    df1 = df1.drop(i, axis=1)\n",
    "print df1.shape\n",
    "\n",
    "for key in master_dict.keys():\n",
    "    t_l = np.array([0]*len(df))\n",
    "    for i in master_dict[key]:\n",
    "        t_l[i] = 1\n",
    "    df1[key] = t_l\n",
    "    \n",
    "print df1.shape"
   ]
  },
  {
   "cell_type": "code",
   "execution_count": null,
   "metadata": {
    "collapsed": false
   },
   "outputs": [],
   "source": []
  },
  {
   "cell_type": "code",
   "execution_count": null,
   "metadata": {
    "collapsed": true
   },
   "outputs": [],
   "source": []
  }
 ],
 "metadata": {
  "anaconda-cloud": {},
  "kernelspec": {
   "display_name": "Python [Root]",
   "language": "python",
   "name": "Python [Root]"
  },
  "language_info": {
   "codemirror_mode": {
    "name": "ipython",
    "version": 2
   },
   "file_extension": ".py",
   "mimetype": "text/x-python",
   "name": "python",
   "nbconvert_exporter": "python",
   "pygments_lexer": "ipython2",
   "version": "2.7.12"
  }
 },
 "nbformat": 4,
 "nbformat_minor": 0
}
